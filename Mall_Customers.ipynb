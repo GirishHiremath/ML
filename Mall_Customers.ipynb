{
  "nbformat": 4,
  "nbformat_minor": 0,
  "metadata": {
    "colab": {
      "name": "Mall_Customers.ipynb",
      "provenance": [],
      "authorship_tag": "ABX9TyOySUmiX1rtcH7lLVPp0Xi+",
      "include_colab_link": true
    },
    "kernelspec": {
      "name": "python3",
      "display_name": "Python 3"
    },
    "language_info": {
      "name": "python"
    }
  },
  "cells": [
    {
      "cell_type": "markdown",
      "metadata": {
        "id": "view-in-github",
        "colab_type": "text"
      },
      "source": [
        "<a href=\"https://colab.research.google.com/github/GirishHiremath/ML/blob/main/Mall_Customers.ipynb\" target=\"_parent\"><img src=\"https://colab.research.google.com/assets/colab-badge.svg\" alt=\"Open In Colab\"/></a>"
      ]
    },
    {
      "cell_type": "code",
      "execution_count": 1,
      "metadata": {
        "colab": {
          "base_uri": "https://localhost:8080/"
        },
        "id": "2xBg1wFPEUzI",
        "outputId": "895a832c-2dc6-4e6a-86b0-c8ee05b517d4"
      },
      "outputs": [
        {
          "output_type": "stream",
          "name": "stdout",
          "text": [
            "Collecting pyforest\n",
            "  Downloading pyforest-1.1.0.tar.gz (15 kB)\n",
            "Building wheels for collected packages: pyforest\n",
            "  Building wheel for pyforest (setup.py) ... \u001b[?25l\u001b[?25hdone\n",
            "  Created wheel for pyforest: filename=pyforest-1.1.0-py2.py3-none-any.whl size=14607 sha256=d9d2927b5966535d2d421ddd18cdaab32cbb3cca69db59379729e639878dd1a3\n",
            "  Stored in directory: /root/.cache/pip/wheels/61/1c/da/48e6c884142d485475d852d69d20a096aba5beceb338822893\n",
            "Successfully built pyforest\n",
            "Installing collected packages: pyforest\n",
            "Successfully installed pyforest-1.1.0\n"
          ]
        }
      ],
      "source": [
        "pip install pyforest"
      ]
    },
    {
      "cell_type": "code",
      "source": [
        "import pyforest\n",
        "import warnings\n",
        "from sklearn.decomposition import PCA"
      ],
      "metadata": {
        "id": "ogyOaWISFTsQ"
      },
      "execution_count": 16,
      "outputs": []
    },
    {
      "cell_type": "code",
      "source": [
        "data=pd.read_csv('/content/Mall_Customers.csv')\n",
        "data.head()"
      ],
      "metadata": {
        "colab": {
          "base_uri": "https://localhost:8080/",
          "height": 206
        },
        "id": "m5Wu84WMFr9-",
        "outputId": "50c927f0-8a9d-47d2-ecc8-be3136035808"
      },
      "execution_count": 6,
      "outputs": [
        {
          "output_type": "display_data",
          "data": {
            "application/javascript": [
              "\n",
              "        if (window._pyforest_update_imports_cell) { window._pyforest_update_imports_cell('import pydot\\nimport matplotlib.pyplot as plt\\nimport plotly.express as px\\nimport pandas as pd\\nimport sklearn\\nimport plotly as py\\nimport pickle'); }\n",
              "    "
            ],
            "text/plain": [
              "<IPython.core.display.Javascript object>"
            ]
          },
          "metadata": {}
        },
        {
          "output_type": "execute_result",
          "data": {
            "text/html": [
              "\n",
              "  <div id=\"df-9277b937-de23-4185-a4bf-b6fe66d76835\">\n",
              "    <div class=\"colab-df-container\">\n",
              "      <div>\n",
              "<style scoped>\n",
              "    .dataframe tbody tr th:only-of-type {\n",
              "        vertical-align: middle;\n",
              "    }\n",
              "\n",
              "    .dataframe tbody tr th {\n",
              "        vertical-align: top;\n",
              "    }\n",
              "\n",
              "    .dataframe thead th {\n",
              "        text-align: right;\n",
              "    }\n",
              "</style>\n",
              "<table border=\"1\" class=\"dataframe\">\n",
              "  <thead>\n",
              "    <tr style=\"text-align: right;\">\n",
              "      <th></th>\n",
              "      <th>CustomerID</th>\n",
              "      <th>Gender</th>\n",
              "      <th>Age</th>\n",
              "      <th>Annual Income (k$)</th>\n",
              "      <th>Spending Score (1-100)</th>\n",
              "    </tr>\n",
              "  </thead>\n",
              "  <tbody>\n",
              "    <tr>\n",
              "      <th>0</th>\n",
              "      <td>1</td>\n",
              "      <td>Male</td>\n",
              "      <td>19</td>\n",
              "      <td>15</td>\n",
              "      <td>39</td>\n",
              "    </tr>\n",
              "    <tr>\n",
              "      <th>1</th>\n",
              "      <td>2</td>\n",
              "      <td>Male</td>\n",
              "      <td>21</td>\n",
              "      <td>15</td>\n",
              "      <td>81</td>\n",
              "    </tr>\n",
              "    <tr>\n",
              "      <th>2</th>\n",
              "      <td>3</td>\n",
              "      <td>Female</td>\n",
              "      <td>20</td>\n",
              "      <td>16</td>\n",
              "      <td>6</td>\n",
              "    </tr>\n",
              "    <tr>\n",
              "      <th>3</th>\n",
              "      <td>4</td>\n",
              "      <td>Female</td>\n",
              "      <td>23</td>\n",
              "      <td>16</td>\n",
              "      <td>77</td>\n",
              "    </tr>\n",
              "    <tr>\n",
              "      <th>4</th>\n",
              "      <td>5</td>\n",
              "      <td>Female</td>\n",
              "      <td>31</td>\n",
              "      <td>17</td>\n",
              "      <td>40</td>\n",
              "    </tr>\n",
              "  </tbody>\n",
              "</table>\n",
              "</div>\n",
              "      <button class=\"colab-df-convert\" onclick=\"convertToInteractive('df-9277b937-de23-4185-a4bf-b6fe66d76835')\"\n",
              "              title=\"Convert this dataframe to an interactive table.\"\n",
              "              style=\"display:none;\">\n",
              "        \n",
              "  <svg xmlns=\"http://www.w3.org/2000/svg\" height=\"24px\"viewBox=\"0 0 24 24\"\n",
              "       width=\"24px\">\n",
              "    <path d=\"M0 0h24v24H0V0z\" fill=\"none\"/>\n",
              "    <path d=\"M18.56 5.44l.94 2.06.94-2.06 2.06-.94-2.06-.94-.94-2.06-.94 2.06-2.06.94zm-11 1L8.5 8.5l.94-2.06 2.06-.94-2.06-.94L8.5 2.5l-.94 2.06-2.06.94zm10 10l.94 2.06.94-2.06 2.06-.94-2.06-.94-.94-2.06-.94 2.06-2.06.94z\"/><path d=\"M17.41 7.96l-1.37-1.37c-.4-.4-.92-.59-1.43-.59-.52 0-1.04.2-1.43.59L10.3 9.45l-7.72 7.72c-.78.78-.78 2.05 0 2.83L4 21.41c.39.39.9.59 1.41.59.51 0 1.02-.2 1.41-.59l7.78-7.78 2.81-2.81c.8-.78.8-2.07 0-2.86zM5.41 20L4 18.59l7.72-7.72 1.47 1.35L5.41 20z\"/>\n",
              "  </svg>\n",
              "      </button>\n",
              "      \n",
              "  <style>\n",
              "    .colab-df-container {\n",
              "      display:flex;\n",
              "      flex-wrap:wrap;\n",
              "      gap: 12px;\n",
              "    }\n",
              "\n",
              "    .colab-df-convert {\n",
              "      background-color: #E8F0FE;\n",
              "      border: none;\n",
              "      border-radius: 50%;\n",
              "      cursor: pointer;\n",
              "      display: none;\n",
              "      fill: #1967D2;\n",
              "      height: 32px;\n",
              "      padding: 0 0 0 0;\n",
              "      width: 32px;\n",
              "    }\n",
              "\n",
              "    .colab-df-convert:hover {\n",
              "      background-color: #E2EBFA;\n",
              "      box-shadow: 0px 1px 2px rgba(60, 64, 67, 0.3), 0px 1px 3px 1px rgba(60, 64, 67, 0.15);\n",
              "      fill: #174EA6;\n",
              "    }\n",
              "\n",
              "    [theme=dark] .colab-df-convert {\n",
              "      background-color: #3B4455;\n",
              "      fill: #D2E3FC;\n",
              "    }\n",
              "\n",
              "    [theme=dark] .colab-df-convert:hover {\n",
              "      background-color: #434B5C;\n",
              "      box-shadow: 0px 1px 3px 1px rgba(0, 0, 0, 0.15);\n",
              "      filter: drop-shadow(0px 1px 2px rgba(0, 0, 0, 0.3));\n",
              "      fill: #FFFFFF;\n",
              "    }\n",
              "  </style>\n",
              "\n",
              "      <script>\n",
              "        const buttonEl =\n",
              "          document.querySelector('#df-9277b937-de23-4185-a4bf-b6fe66d76835 button.colab-df-convert');\n",
              "        buttonEl.style.display =\n",
              "          google.colab.kernel.accessAllowed ? 'block' : 'none';\n",
              "\n",
              "        async function convertToInteractive(key) {\n",
              "          const element = document.querySelector('#df-9277b937-de23-4185-a4bf-b6fe66d76835');\n",
              "          const dataTable =\n",
              "            await google.colab.kernel.invokeFunction('convertToInteractive',\n",
              "                                                     [key], {});\n",
              "          if (!dataTable) return;\n",
              "\n",
              "          const docLinkHtml = 'Like what you see? Visit the ' +\n",
              "            '<a target=\"_blank\" href=https://colab.research.google.com/notebooks/data_table.ipynb>data table notebook</a>'\n",
              "            + ' to learn more about interactive tables.';\n",
              "          element.innerHTML = '';\n",
              "          dataTable['output_type'] = 'display_data';\n",
              "          await google.colab.output.renderOutput(dataTable, element);\n",
              "          const docLink = document.createElement('div');\n",
              "          docLink.innerHTML = docLinkHtml;\n",
              "          element.appendChild(docLink);\n",
              "        }\n",
              "      </script>\n",
              "    </div>\n",
              "  </div>\n",
              "  "
            ],
            "text/plain": [
              "   CustomerID  Gender  Age  Annual Income (k$)  Spending Score (1-100)\n",
              "0           1    Male   19                  15                      39\n",
              "1           2    Male   21                  15                      81\n",
              "2           3  Female   20                  16                       6\n",
              "3           4  Female   23                  16                      77\n",
              "4           5  Female   31                  17                      40"
            ]
          },
          "metadata": {},
          "execution_count": 6
        }
      ]
    },
    {
      "cell_type": "code",
      "source": [
        "data.shape"
      ],
      "metadata": {
        "colab": {
          "base_uri": "https://localhost:8080/"
        },
        "id": "J8r0ETIHFsA-",
        "outputId": "23f4a492-ddec-412e-d5f6-f242d2d23a79"
      },
      "execution_count": 8,
      "outputs": [
        {
          "output_type": "execute_result",
          "data": {
            "text/plain": [
              "(200, 5)"
            ]
          },
          "metadata": {},
          "execution_count": 8
        }
      ]
    },
    {
      "cell_type": "code",
      "source": [
        "data.drop('CustomerID',axis=1,inplace=True)"
      ],
      "metadata": {
        "id": "qu6wWK46FsDj"
      },
      "execution_count": 9,
      "outputs": []
    },
    {
      "cell_type": "code",
      "source": [
        "data.info()"
      ],
      "metadata": {
        "colab": {
          "base_uri": "https://localhost:8080/"
        },
        "id": "sjO2WU7dFsF2",
        "outputId": "820d9ed4-f3ad-4959-bd6d-76750495a426"
      },
      "execution_count": 10,
      "outputs": [
        {
          "output_type": "stream",
          "name": "stdout",
          "text": [
            "<class 'pandas.core.frame.DataFrame'>\n",
            "RangeIndex: 200 entries, 0 to 199\n",
            "Data columns (total 4 columns):\n",
            " #   Column                  Non-Null Count  Dtype \n",
            "---  ------                  --------------  ----- \n",
            " 0   Gender                  200 non-null    object\n",
            " 1   Age                     200 non-null    int64 \n",
            " 2   Annual Income (k$)      200 non-null    int64 \n",
            " 3   Spending Score (1-100)  200 non-null    int64 \n",
            "dtypes: int64(3), object(1)\n",
            "memory usage: 6.4+ KB\n"
          ]
        }
      ]
    },
    {
      "cell_type": "code",
      "source": [
        "data=pd.get_dummies(data,drop_first=True)\n",
        "data.head()"
      ],
      "metadata": {
        "colab": {
          "base_uri": "https://localhost:8080/",
          "height": 206
        },
        "id": "CDuZVGV2FsIR",
        "outputId": "6fa723eb-a87f-43aa-cae2-fef46e33ec80"
      },
      "execution_count": 11,
      "outputs": [
        {
          "output_type": "display_data",
          "data": {
            "application/javascript": [
              "\n",
              "        if (window._pyforest_update_imports_cell) { window._pyforest_update_imports_cell('import pydot\\nimport matplotlib.pyplot as plt\\nimport plotly.express as px\\nimport imutils\\nimport pandas as pd\\nimport sklearn\\nimport altair as alt\\nimport plotly as py\\nimport pickle'); }\n",
              "    "
            ],
            "text/plain": [
              "<IPython.core.display.Javascript object>"
            ]
          },
          "metadata": {}
        },
        {
          "output_type": "execute_result",
          "data": {
            "text/html": [
              "\n",
              "  <div id=\"df-a8a1c40b-28ec-4ce8-bc2d-334c018fea45\">\n",
              "    <div class=\"colab-df-container\">\n",
              "      <div>\n",
              "<style scoped>\n",
              "    .dataframe tbody tr th:only-of-type {\n",
              "        vertical-align: middle;\n",
              "    }\n",
              "\n",
              "    .dataframe tbody tr th {\n",
              "        vertical-align: top;\n",
              "    }\n",
              "\n",
              "    .dataframe thead th {\n",
              "        text-align: right;\n",
              "    }\n",
              "</style>\n",
              "<table border=\"1\" class=\"dataframe\">\n",
              "  <thead>\n",
              "    <tr style=\"text-align: right;\">\n",
              "      <th></th>\n",
              "      <th>Age</th>\n",
              "      <th>Annual Income (k$)</th>\n",
              "      <th>Spending Score (1-100)</th>\n",
              "      <th>Gender_Male</th>\n",
              "    </tr>\n",
              "  </thead>\n",
              "  <tbody>\n",
              "    <tr>\n",
              "      <th>0</th>\n",
              "      <td>19</td>\n",
              "      <td>15</td>\n",
              "      <td>39</td>\n",
              "      <td>1</td>\n",
              "    </tr>\n",
              "    <tr>\n",
              "      <th>1</th>\n",
              "      <td>21</td>\n",
              "      <td>15</td>\n",
              "      <td>81</td>\n",
              "      <td>1</td>\n",
              "    </tr>\n",
              "    <tr>\n",
              "      <th>2</th>\n",
              "      <td>20</td>\n",
              "      <td>16</td>\n",
              "      <td>6</td>\n",
              "      <td>0</td>\n",
              "    </tr>\n",
              "    <tr>\n",
              "      <th>3</th>\n",
              "      <td>23</td>\n",
              "      <td>16</td>\n",
              "      <td>77</td>\n",
              "      <td>0</td>\n",
              "    </tr>\n",
              "    <tr>\n",
              "      <th>4</th>\n",
              "      <td>31</td>\n",
              "      <td>17</td>\n",
              "      <td>40</td>\n",
              "      <td>0</td>\n",
              "    </tr>\n",
              "  </tbody>\n",
              "</table>\n",
              "</div>\n",
              "      <button class=\"colab-df-convert\" onclick=\"convertToInteractive('df-a8a1c40b-28ec-4ce8-bc2d-334c018fea45')\"\n",
              "              title=\"Convert this dataframe to an interactive table.\"\n",
              "              style=\"display:none;\">\n",
              "        \n",
              "  <svg xmlns=\"http://www.w3.org/2000/svg\" height=\"24px\"viewBox=\"0 0 24 24\"\n",
              "       width=\"24px\">\n",
              "    <path d=\"M0 0h24v24H0V0z\" fill=\"none\"/>\n",
              "    <path d=\"M18.56 5.44l.94 2.06.94-2.06 2.06-.94-2.06-.94-.94-2.06-.94 2.06-2.06.94zm-11 1L8.5 8.5l.94-2.06 2.06-.94-2.06-.94L8.5 2.5l-.94 2.06-2.06.94zm10 10l.94 2.06.94-2.06 2.06-.94-2.06-.94-.94-2.06-.94 2.06-2.06.94z\"/><path d=\"M17.41 7.96l-1.37-1.37c-.4-.4-.92-.59-1.43-.59-.52 0-1.04.2-1.43.59L10.3 9.45l-7.72 7.72c-.78.78-.78 2.05 0 2.83L4 21.41c.39.39.9.59 1.41.59.51 0 1.02-.2 1.41-.59l7.78-7.78 2.81-2.81c.8-.78.8-2.07 0-2.86zM5.41 20L4 18.59l7.72-7.72 1.47 1.35L5.41 20z\"/>\n",
              "  </svg>\n",
              "      </button>\n",
              "      \n",
              "  <style>\n",
              "    .colab-df-container {\n",
              "      display:flex;\n",
              "      flex-wrap:wrap;\n",
              "      gap: 12px;\n",
              "    }\n",
              "\n",
              "    .colab-df-convert {\n",
              "      background-color: #E8F0FE;\n",
              "      border: none;\n",
              "      border-radius: 50%;\n",
              "      cursor: pointer;\n",
              "      display: none;\n",
              "      fill: #1967D2;\n",
              "      height: 32px;\n",
              "      padding: 0 0 0 0;\n",
              "      width: 32px;\n",
              "    }\n",
              "\n",
              "    .colab-df-convert:hover {\n",
              "      background-color: #E2EBFA;\n",
              "      box-shadow: 0px 1px 2px rgba(60, 64, 67, 0.3), 0px 1px 3px 1px rgba(60, 64, 67, 0.15);\n",
              "      fill: #174EA6;\n",
              "    }\n",
              "\n",
              "    [theme=dark] .colab-df-convert {\n",
              "      background-color: #3B4455;\n",
              "      fill: #D2E3FC;\n",
              "    }\n",
              "\n",
              "    [theme=dark] .colab-df-convert:hover {\n",
              "      background-color: #434B5C;\n",
              "      box-shadow: 0px 1px 3px 1px rgba(0, 0, 0, 0.15);\n",
              "      filter: drop-shadow(0px 1px 2px rgba(0, 0, 0, 0.3));\n",
              "      fill: #FFFFFF;\n",
              "    }\n",
              "  </style>\n",
              "\n",
              "      <script>\n",
              "        const buttonEl =\n",
              "          document.querySelector('#df-a8a1c40b-28ec-4ce8-bc2d-334c018fea45 button.colab-df-convert');\n",
              "        buttonEl.style.display =\n",
              "          google.colab.kernel.accessAllowed ? 'block' : 'none';\n",
              "\n",
              "        async function convertToInteractive(key) {\n",
              "          const element = document.querySelector('#df-a8a1c40b-28ec-4ce8-bc2d-334c018fea45');\n",
              "          const dataTable =\n",
              "            await google.colab.kernel.invokeFunction('convertToInteractive',\n",
              "                                                     [key], {});\n",
              "          if (!dataTable) return;\n",
              "\n",
              "          const docLinkHtml = 'Like what you see? Visit the ' +\n",
              "            '<a target=\"_blank\" href=https://colab.research.google.com/notebooks/data_table.ipynb>data table notebook</a>'\n",
              "            + ' to learn more about interactive tables.';\n",
              "          element.innerHTML = '';\n",
              "          dataTable['output_type'] = 'display_data';\n",
              "          await google.colab.output.renderOutput(dataTable, element);\n",
              "          const docLink = document.createElement('div');\n",
              "          docLink.innerHTML = docLinkHtml;\n",
              "          element.appendChild(docLink);\n",
              "        }\n",
              "      </script>\n",
              "    </div>\n",
              "  </div>\n",
              "  "
            ],
            "text/plain": [
              "   Age  Annual Income (k$)  Spending Score (1-100)  Gender_Male\n",
              "0   19                  15                      39            1\n",
              "1   21                  15                      81            1\n",
              "2   20                  16                       6            0\n",
              "3   23                  16                      77            0\n",
              "4   31                  17                      40            0"
            ]
          },
          "metadata": {},
          "execution_count": 11
        }
      ]
    },
    {
      "cell_type": "code",
      "source": [
        "data.info()"
      ],
      "metadata": {
        "colab": {
          "base_uri": "https://localhost:8080/"
        },
        "id": "ksoiowNCFsKZ",
        "outputId": "c5a8fe5f-c386-4c37-8822-c79d03ecaf67"
      },
      "execution_count": 12,
      "outputs": [
        {
          "output_type": "stream",
          "name": "stdout",
          "text": [
            "<class 'pandas.core.frame.DataFrame'>\n",
            "RangeIndex: 200 entries, 0 to 199\n",
            "Data columns (total 4 columns):\n",
            " #   Column                  Non-Null Count  Dtype\n",
            "---  ------                  --------------  -----\n",
            " 0   Age                     200 non-null    int64\n",
            " 1   Annual Income (k$)      200 non-null    int64\n",
            " 2   Spending Score (1-100)  200 non-null    int64\n",
            " 3   Gender_Male             200 non-null    uint8\n",
            "dtypes: int64(3), uint8(1)\n",
            "memory usage: 5.0 KB\n"
          ]
        }
      ]
    },
    {
      "cell_type": "code",
      "source": [
        "data.isna().sum()"
      ],
      "metadata": {
        "colab": {
          "base_uri": "https://localhost:8080/"
        },
        "id": "CYuP4Sh1FsMy",
        "outputId": "6c711e1c-65a3-45cc-8e22-7f3da219bae7"
      },
      "execution_count": 14,
      "outputs": [
        {
          "output_type": "execute_result",
          "data": {
            "text/plain": [
              "Age                       0\n",
              "Annual Income (k$)        0\n",
              "Spending Score (1-100)    0\n",
              "Gender_Male               0\n",
              "dtype: int64"
            ]
          },
          "metadata": {},
          "execution_count": 14
        }
      ]
    },
    {
      "cell_type": "markdown",
      "source": [
        "Running K-means algorithm to identify ideal number of clusters using elbow-point method. Clusters 3,4,5,6 are considered as ideal from the belpw graph but will depand on how the distribution looks"
      ],
      "metadata": {
        "id": "A3IsdHtwLAmY"
      }
    },
    {
      "cell_type": "code",
      "source": [
        "from sklearn.cluster import KMeans\n",
        "wcss=[]\n",
        "for i in range(1,11):\n",
        "  km=KMeans(n_clusters=i,init='k-means++',max_iter=300,n_init=10,random_state=0)\n",
        "  km.fit(data)\n",
        "  wcss.append(km.inertia_)\n",
        "\n",
        "plt.plot(range(1,11),wcss)\n",
        "plt.title('The Elbow Method',fontsize=10)\n",
        "plt.xlabel('no.of Clusters')\n",
        "plt.ylabel('wcss')\n",
        "plt.show()"
      ],
      "metadata": {
        "colab": {
          "base_uri": "https://localhost:8080/",
          "height": 293
        },
        "id": "2Ya16-x3FsO1",
        "outputId": "6873ff09-6826-4f8b-9b8c-8281bc28ee6f"
      },
      "execution_count": 23,
      "outputs": [
        {
          "output_type": "display_data",
          "data": {
            "application/javascript": [
              "\n",
              "        if (window._pyforest_update_imports_cell) { window._pyforest_update_imports_cell('from sklearn.cluster import KMeans\\nimport fbprophet\\nimport sklearn\\nfrom statsmodels.tsa.arima_model import ARIMA\\nimport skimage\\nimport bokeh\\nimport matplotlib as mpl\\nimport plotly.express as px\\nimport altair as alt\\nfrom sklearn.model_selection import cross_val_score\\nimport plotly as py\\nimport statistics\\nfrom sklearn import metrics\\nimport spacy\\nimport fastai\\nimport pydot\\nimport matplotlib.pyplot as plt\\nimport cv2\\nimport imutils\\nimport nltk\\nimport pandas as pd\\nimport sys\\nfrom sklearn.feature_extraction.text import CountVectorizer\\nimport re\\nimport numpy as np\\nimport keras\\nimport pickle'); }\n",
              "    "
            ],
            "text/plain": [
              "<IPython.core.display.Javascript object>"
            ]
          },
          "metadata": {}
        },
        {
          "output_type": "display_data",
          "data": {
            "application/javascript": [
              "\n",
              "        if (window._pyforest_update_imports_cell) { window._pyforest_update_imports_cell('from sklearn.cluster import KMeans\\nimport fbprophet\\nimport sklearn\\nfrom statsmodels.tsa.arima_model import ARIMA\\nimport skimage\\nimport bokeh\\nimport matplotlib as mpl\\nimport plotly.express as px\\nimport altair as alt\\nfrom sklearn.model_selection import cross_val_score\\nimport plotly as py\\nimport statistics\\nfrom sklearn import metrics\\nimport spacy\\nimport fastai\\nimport pydot\\nimport matplotlib.pyplot as plt\\nimport cv2\\nimport imutils\\nimport nltk\\nimport pandas as pd\\nimport sys\\nfrom sklearn.feature_extraction.text import CountVectorizer\\nimport re\\nimport numpy as np\\nimport keras\\nimport pickle'); }\n",
              "    "
            ],
            "text/plain": [
              "<IPython.core.display.Javascript object>"
            ]
          },
          "metadata": {}
        },
        {
          "output_type": "display_data",
          "data": {
            "application/javascript": [
              "\n",
              "        if (window._pyforest_update_imports_cell) { window._pyforest_update_imports_cell('from sklearn.cluster import KMeans\\nimport fbprophet\\nimport sklearn\\nfrom statsmodels.tsa.arima_model import ARIMA\\nimport skimage\\nimport bokeh\\nimport matplotlib as mpl\\nimport plotly.express as px\\nimport altair as alt\\nfrom sklearn.model_selection import cross_val_score\\nimport plotly as py\\nimport statistics\\nfrom sklearn import metrics\\nimport spacy\\nimport fastai\\nimport pydot\\nimport matplotlib.pyplot as plt\\nimport cv2\\nimport imutils\\nimport nltk\\nimport pandas as pd\\nimport sys\\nfrom sklearn.feature_extraction.text import CountVectorizer\\nimport re\\nimport numpy as np\\nimport keras\\nimport pickle'); }\n",
              "    "
            ],
            "text/plain": [
              "<IPython.core.display.Javascript object>"
            ]
          },
          "metadata": {}
        },
        {
          "output_type": "display_data",
          "data": {
            "application/javascript": [
              "\n",
              "        if (window._pyforest_update_imports_cell) { window._pyforest_update_imports_cell('from sklearn.cluster import KMeans\\nimport fbprophet\\nimport sklearn\\nfrom statsmodels.tsa.arima_model import ARIMA\\nimport skimage\\nimport bokeh\\nimport matplotlib as mpl\\nimport plotly.express as px\\nimport altair as alt\\nfrom sklearn.model_selection import cross_val_score\\nimport plotly as py\\nimport statistics\\nfrom sklearn import metrics\\nimport spacy\\nimport fastai\\nimport pydot\\nimport matplotlib.pyplot as plt\\nimport cv2\\nimport imutils\\nimport nltk\\nimport pandas as pd\\nimport sys\\nfrom sklearn.feature_extraction.text import CountVectorizer\\nimport re\\nimport numpy as np\\nimport keras\\nimport pickle'); }\n",
              "    "
            ],
            "text/plain": [
              "<IPython.core.display.Javascript object>"
            ]
          },
          "metadata": {}
        },
        {
          "output_type": "display_data",
          "data": {
            "application/javascript": [
              "\n",
              "        if (window._pyforest_update_imports_cell) { window._pyforest_update_imports_cell('from sklearn.cluster import KMeans\\nimport fbprophet\\nimport sklearn\\nfrom statsmodels.tsa.arima_model import ARIMA\\nimport skimage\\nimport bokeh\\nimport matplotlib as mpl\\nimport plotly.express as px\\nimport altair as alt\\nfrom sklearn.model_selection import cross_val_score\\nimport plotly as py\\nimport statistics\\nfrom sklearn import metrics\\nimport spacy\\nimport fastai\\nimport pydot\\nimport matplotlib.pyplot as plt\\nimport cv2\\nimport imutils\\nimport nltk\\nimport pandas as pd\\nimport sys\\nfrom sklearn.feature_extraction.text import CountVectorizer\\nimport re\\nimport numpy as np\\nimport keras\\nimport pickle'); }\n",
              "    "
            ],
            "text/plain": [
              "<IPython.core.display.Javascript object>"
            ]
          },
          "metadata": {}
        },
        {
          "output_type": "display_data",
          "data": {
            "image/png": "[encoded data removed]",
            "text/plain": [
              "<Figure size 432x288 with 1 Axes>"
            ]
          },
          "metadata": {
            "needs_background": "light"
          }
        }
      ]
    },
    {
      "cell_type": "code",
      "source": [
        "#Running the K-means algorithm by using 3 clusters as decided from above elbow graph\n",
        "km=KMeans(n_clusters=3,init='k-means++',max_iter=300,n_init=10,random_state=0)\n",
        "y_means=km.fit_predict(data)"
      ],
      "metadata": {
        "id": "mNMLqAj7FsRF"
      },
      "execution_count": 37,
      "outputs": []
    },
    {
      "cell_type": "code",
      "source": [
        "#Convering numpy array of clusters to dataframe to see the distribution in each cluster\n",
        "cluster_df=pd.DataFrame(data=y_means,columns=['cluster'])"
      ],
      "metadata": {
        "colab": {
          "base_uri": "https://localhost:8080/",
          "height": 17
        },
        "id": "Qzr00yWFFsTd",
        "outputId": "180f3e83-7d29-46f6-9b54-12d86f3a2e3d"
      },
      "execution_count": 38,
      "outputs": [
        {
          "output_type": "display_data",
          "data": {
            "application/javascript": [
              "\n",
              "        if (window._pyforest_update_imports_cell) { window._pyforest_update_imports_cell('import tqdm\\nfrom sklearn.cluster import KMeans\\nimport fbprophet\\nimport sklearn\\nfrom statsmodels.tsa.arima_model import ARIMA\\nimport skimage\\nimport bokeh\\nimport matplotlib as mpl\\nimport os\\nfrom sklearn.model_selection import RandomizedSearchCV\\nimport plotly.express as px\\nfrom xlrd import open_workbook\\nfrom sklearn.preprocessing import RobustScaler\\nimport tensorflow as tf\\nimport textblob\\nimport altair as alt\\nfrom sklearn.model_selection import cross_val_score\\nimport plotly as py\\nimport statistics\\nfrom sklearn import metrics\\nfrom sklearn.model_selection import train_test_split\\nimport spacy\\nimport fastai\\nimport pydot\\nimport matplotlib.pyplot as plt\\nimport cv2\\nimport imutils\\nimport nltk\\nimport pandas as pd\\nfrom sklearn.ensemble import RandomForestClassifier\\nfrom sklearn.ensemble import RandomForestRegressor\\nimport sys\\nfrom sklearn.feature_extraction.text import CountVectorizer\\nimport re\\nfrom sklearn.model_selection import KFold\\nimport numpy as np\\nimport keras\\nimport torch\\nfrom sklearn.linear_model import Ridge\\nimport pickle\\nfrom sklearn.linear_model import RidgeCV'); }\n",
              "    "
            ],
            "text/plain": [
              "<IPython.core.display.Javascript object>"
            ]
          },
          "metadata": {}
        }
      ]
    },
    {
      "cell_type": "code",
      "source": [
        "#Disrtibution seems to be biased towards 3rd cluster which is cluster number 0\n",
        "cluster_df.groupby('cluster').size()"
      ],
      "metadata": {
        "colab": {
          "base_uri": "https://localhost:8080/"
        },
        "id": "AXLPY3rIFsVT",
        "outputId": "4fa0dfd7-0823-4ce5-fd2f-8a6683227bc9"
      },
      "execution_count": 39,
      "outputs": [
        {
          "output_type": "execute_result",
          "data": {
            "text/plain": [
              "cluster\n",
              "0     38\n",
              "1     39\n",
              "2    123\n",
              "dtype: int64"
            ]
          },
          "metadata": {},
          "execution_count": 39
        }
      ]
    },
    {
      "cell_type": "markdown",
      "source": [
        "Running the Silhouette score for k-means through numerical oops for checking best number og distribution to be used for clustering"
      ],
      "metadata": {
        "id": "fAQVM4j4NtHy"
      }
    },
    {
      "cell_type": "markdown",
      "source": [
        "More about Silhouette Score\n",
        "\n",
        "\n",
        "*   Silhouette refers to a method of interpretion and validation of consistency within clusters of data. The technique provides a best graphical representation of how will each object has been classified in each cluster. Lesser the silhouette score poor the classification,and vice-versa Silhouette score ranges between 0-1\n",
        "\n",
        "\n",
        "\n",
        "\n",
        "\n"
      ],
      "metadata": {
        "id": "MC7gaUWkOYzP"
      }
    },
    {
      "cell_type": "code",
      "source": [
        "from sklearn.metrics import silhouette_score\n",
        "for n_clusters in range(2,20):\n",
        "  kmeans=KMeans(init='k-means++',n_clusters=n_clusters,n_init=50)\n",
        "  kmeans.fit(data)\n",
        "  clusters=kmeans.predict(data)\n",
        "  silhouette_avg=silhouette_score(data,clusters)\n",
        "  print('For n_clusters=',n_clusters,'The average silhouette_score is:',silhouette_avg)"
      ],
      "metadata": {
        "colab": {
          "base_uri": "https://localhost:8080/"
        },
        "id": "Nzm2OUnfNrEF",
        "outputId": "33ab3de8-e536-464c-f1bb-bb726d272bce"
      },
      "execution_count": 44,
      "outputs": [
        {
          "output_type": "stream",
          "name": "stdout",
          "text": [
            "For n_clusters= 2 The average silhouette_score is: 0.29307334005502633\n",
            "For n_clusters= 3 The average silhouette_score is: 0.383798873822341\n",
            "For n_clusters= 4 The average silhouette_score is: 0.4052954330641215\n",
            "For n_clusters= 5 The average silhouette_score is: 0.4440669204743008\n",
            "For n_clusters= 6 The average silhouette_score is: 0.45205475380756527\n",
            "For n_clusters= 7 The average silhouette_score is: 0.44096462877395787\n",
            "For n_clusters= 8 The average silhouette_score is: 0.427541566977401\n",
            "For n_clusters= 9 The average silhouette_score is: 0.41489060683040535\n",
            "For n_clusters= 10 The average silhouette_score is: 0.3824739410656488\n",
            "For n_clusters= 11 The average silhouette_score is: 0.3690633160262062\n",
            "For n_clusters= 12 The average silhouette_score is: 0.35793644474008124\n",
            "For n_clusters= 13 The average silhouette_score is: 0.34307384911950917\n",
            "For n_clusters= 14 The average silhouette_score is: 0.34545377180086073\n",
            "For n_clusters= 15 The average silhouette_score is: 0.3483940071922615\n",
            "For n_clusters= 16 The average silhouette_score is: 0.3499563905478374\n",
            "For n_clusters= 17 The average silhouette_score is: 0.32798473962380553\n",
            "For n_clusters= 18 The average silhouette_score is: 0.3338240705223559\n",
            "For n_clusters= 19 The average silhouette_score is: 0.35146453908130654\n"
          ]
        }
      ]
    },
    {
      "cell_type": "markdown",
      "source": [
        "Running the Silhouette score for k-means through visulisation for checking best number of clusters to be used for clustering"
      ],
      "metadata": {
        "id": "R32dCXDPV32K"
      }
    },
    {
      "cell_type": "code",
      "source": [
        "'''silhouette_scores=[]\n",
        "for n_clusters in range(2,20):\n",
        "  silhouette_scores.append(silhouette_score(data,KMeans(n_clusters).fit_predict(data)))\n",
        "\n",
        "  #pottting a bar graph to compare the resultes\n",
        "  k=[2,3,4,5,6,7]\n",
        "  plt.bar(k,silhouette_scores)\n",
        "  plt.xlabel('Number of clusters:',fontsize=10)\n",
        "  plt.ylabel('Silhouatte Score',fontsize=10)\n",
        "  plt.show()'''"
      ],
      "metadata": {
        "colab": {
          "base_uri": "https://localhost:8080/",
          "height": 88
        },
        "id": "3WQtt4rlNrG-",
        "outputId": "e5d2743d-c8aa-4a0e-ed52-3af26ae279f4"
      },
      "execution_count": 49,
      "outputs": [
        {
          "output_type": "execute_result",
          "data": {
            "application/vnd.google.colaboratory.intrinsic+json": {
              "type": "string"
            },
            "text/plain": [
              "\"silhouette_scores=[]\\nfor n_clusters in range(2,20):\\n  silhouette_scores.append(silhouette_score(data,KMeans(n_clusters).fit_predict(data)))\\n\\n  #pottting a bar graph to compare the resultes\\n  k=[2,3,4,5,6,7]\\n  plt.bar(k,silhouette_scores)\\n  plt.xlabel('Number of clusters:',fontsize=10)\\n  plt.ylabel('Silhouatte Score',fontsize=10)\\n  plt.show()\""
            ]
          },
          "metadata": {},
          "execution_count": 49
        }
      ]
    },
    {
      "cell_type": "markdown",
      "source": [
        "Running the Silhouette score for agglomerative clustering with 'average' linkage through numerical loops for checking best number of clusters to be used for clustering in agglomerative\n"
      ],
      "metadata": {
        "id": "in1HjFxjdWrf"
      }
    },
    {
      "cell_type": "code",
      "source": [
        "from sklearn.cluster import AgglomerativeClustering\n",
        "for n_clusters in range(2,8):\n",
        "  aglo=AgglomerativeClustering(n_clusters=n_clusters,linkage='average')\n",
        "  aglo.fit(data)\n",
        "  clusters=aglo.fit_predict(data)\n",
        "  silhouette_avg=silhouette_score(data,clusters)\n",
        "  print('For n_clusters=',n_clusters,'The average silhouette_score is:',silhouette_avg)"
      ],
      "metadata": {
        "colab": {
          "base_uri": "https://localhost:8080/"
        },
        "id": "E2uiN0k1NrKG",
        "outputId": "2160334d-ffd8-4d7d-e85a-9c7a9ca0e311"
      },
      "execution_count": 51,
      "outputs": [
        {
          "output_type": "stream",
          "name": "stdout",
          "text": [
            "For n_clusters= 2 The average silhouette_score is: 0.31577520928038805\n",
            "For n_clusters= 3 The average silhouette_score is: 0.3812859576468096\n",
            "For n_clusters= 4 The average silhouette_score is: 0.4102091359195185\n",
            "For n_clusters= 5 The average silhouette_score is: 0.43521075902386996\n",
            "For n_clusters= 6 The average silhouette_score is: 0.4184037015474744\n",
            "For n_clusters= 7 The average silhouette_score is: 0.40998315593156753\n"
          ]
        }
      ]
    },
    {
      "cell_type": "code",
      "source": [
        "from sklearn.cluster import AgglomerativeClustering\n",
        "for n_clusters in range(9,15):\n",
        "  aglo=AgglomerativeClustering(n_clusters=n_clusters,linkage='average')\n",
        "  aglo.fit(data)\n",
        "  clusters=aglo.fit_predict(data)\n",
        "  silhouette_avg=silhouette_score(data,clusters)\n",
        "  print('For n_clusters=',n_clusters,'The average silhouette_score is:',silhouette_avg)"
      ],
      "metadata": {
        "colab": {
          "base_uri": "https://localhost:8080/"
        },
        "id": "wMlHA109NrMx",
        "outputId": "a9c1a0b7-dcf4-4de3-fae8-9660c7097240"
      },
      "execution_count": 52,
      "outputs": [
        {
          "output_type": "stream",
          "name": "stdout",
          "text": [
            "For n_clusters= 9 The average silhouette_score is: 0.41011265964616683\n",
            "For n_clusters= 10 The average silhouette_score is: 0.39218406299832453\n",
            "For n_clusters= 11 The average silhouette_score is: 0.39190017675806826\n",
            "For n_clusters= 12 The average silhouette_score is: 0.39327169060135986\n",
            "For n_clusters= 13 The average silhouette_score is: 0.38220252316347625\n",
            "For n_clusters= 14 The average silhouette_score is: 0.36000852742864387\n"
          ]
        }
      ]
    },
    {
      "cell_type": "markdown",
      "source": [
        "Running the Aglomerative algorithm by using 6 clusters"
      ],
      "metadata": {
        "id": "egNj7tj-fygo"
      }
    },
    {
      "cell_type": "code",
      "source": [
        "algo_cluster=AgglomerativeClustering(n_clusters=3,linkage='average')\n",
        "algo_cluster.fit(data)\n",
        "clusters=algo_cluster.fit_predict(data)"
      ],
      "metadata": {
        "id": "BQBTezxqfw6R"
      },
      "execution_count": 57,
      "outputs": []
    },
    {
      "cell_type": "markdown",
      "source": [
        "Converting numpy array of clusters to dataframe to see the distribution in each cluster"
      ],
      "metadata": {
        "id": "JVvZuLb6ghMt"
      }
    },
    {
      "cell_type": "code",
      "source": [
        "cluster_df=pd.DataFrame(data=clusters,columns=['cluster'])"
      ],
      "metadata": {
        "colab": {
          "base_uri": "https://localhost:8080/",
          "height": 17
        },
        "id": "BBKlEcLDNrOT",
        "outputId": "2e7aa750-3b22-4e64-c22d-1288d0578bf1"
      },
      "execution_count": 58,
      "outputs": [
        {
          "output_type": "display_data",
          "data": {
            "application/javascript": [
              "\n",
              "        if (window._pyforest_update_imports_cell) { window._pyforest_update_imports_cell('from sklearn import svm\\nimport tqdm\\nfrom sklearn.cluster import KMeans\\nimport fbprophet\\nimport sklearn\\nfrom statsmodels.tsa.arima_model import ARIMA\\nimport skimage\\nimport bokeh\\nimport matplotlib as mpl\\nimport lightgbm as lgb\\nimport os\\nfrom sklearn.model_selection import RandomizedSearchCV\\nimport plotly.express as px\\nfrom xlrd import open_workbook\\nimport seaborn as sns\\nfrom sklearn.preprocessing import RobustScaler\\nimport tensorflow as tf\\nimport statsmodels.api as sm\\nimport textblob\\nimport altair as alt\\nfrom sklearn.model_selection import cross_val_score\\nimport plotly as py\\nimport statistics\\nfrom sklearn import metrics\\nfrom sklearn.model_selection import train_test_split\\nimport spacy\\nfrom openpyxl import load_workbook\\nimport fastai\\nimport pydot\\nimport matplotlib.pyplot as plt\\nimport cv2\\nimport imutils\\nimport nltk\\nimport pandas as pd\\nfrom sklearn.ensemble import RandomForestClassifier\\nfrom sklearn.ensemble import RandomForestRegressor\\nimport sys\\nfrom scipy import signal as sg\\nfrom sklearn.feature_extraction.text import CountVectorizer\\nimport re\\nfrom scipy import stats\\nfrom sklearn.model_selection import KFold\\nimport numpy as np\\nimport keras\\nimport torch\\nfrom sklearn.linear_model import Ridge\\nimport pickle\\nfrom sklearn.linear_model import RidgeCV'); }\n",
              "    "
            ],
            "text/plain": [
              "<IPython.core.display.Javascript object>"
            ]
          },
          "metadata": {}
        }
      ]
    },
    {
      "cell_type": "markdown",
      "source": [
        "Distribution seems to highly be biased towaards 1st cluster which is cluster number 0 and poorly performing the k-means in terms of distribution"
      ],
      "metadata": {
        "id": "OSS9_hRZg_CT"
      }
    },
    {
      "cell_type": "code",
      "source": [
        "cluster_df.groupby('cluster').size()"
      ],
      "metadata": {
        "colab": {
          "base_uri": "https://localhost:8080/"
        },
        "id": "RskGUBthNrTx",
        "outputId": "733cd2cc-7921-47b4-d73d-77ab652a81f6"
      },
      "execution_count": 59,
      "outputs": [
        {
          "output_type": "execute_result",
          "data": {
            "text/plain": [
              "cluster\n",
              "0    126\n",
              "1     35\n",
              "2     39\n",
              "dtype: int64"
            ]
          },
          "metadata": {},
          "execution_count": 59
        }
      ]
    },
    {
      "cell_type": "markdown",
      "source": [
        "Running the Silhouette score for agglomerative clustering with 'single' linkage thtough numerical loops for checking best number of clusters to used for clustering in agglomerative"
      ],
      "metadata": {
        "id": "YHYM6HCoiAO7"
      }
    },
    {
      "cell_type": "code",
      "source": [
        "from sklearn.cluster import AgglomerativeClustering\n",
        "for n_clusters in range(2,8):\n",
        "  aglo=AgglomerativeClustering(n_clusters=n_clusters,linkage='single')\n",
        "  aglo.fit(data)\n",
        "  clusters=aglo.fit_predict(data)\n",
        "  silhouette_avg=silhouette_score(data,clusters)\n",
        "  print('For n_clusters=',n_clusters,'The average silhouette_score is:',silhouette_avg)"
      ],
      "metadata": {
        "colab": {
          "base_uri": "https://localhost:8080/"
        },
        "id": "wP7lNy4oNrWK",
        "outputId": "94f63b97-9989-4df3-949a-3fa29429da53"
      },
      "execution_count": 60,
      "outputs": [
        {
          "output_type": "stream",
          "name": "stdout",
          "text": [
            "For n_clusters= 2 The average silhouette_score is: 0.39083611393057793\n",
            "For n_clusters= 3 The average silhouette_score is: 0.30489109365175143\n",
            "For n_clusters= 4 The average silhouette_score is: 0.2736590849581382\n",
            "For n_clusters= 5 The average silhouette_score is: 0.24285967345045742\n",
            "For n_clusters= 6 The average silhouette_score is: 0.16486633454475855\n",
            "For n_clusters= 7 The average silhouette_score is: 0.13642817411032682\n"
          ]
        }
      ]
    },
    {
      "cell_type": "markdown",
      "source": [
        "Running the Silhouette score for agglomerative clustering witj 'ward'linkage through numerical loops for checking best number of clusters to be used for clustering in agglomerative. if nothing specified, default is the ward linkage too"
      ],
      "metadata": {
        "id": "13jwXLDHjEy0"
      }
    },
    {
      "cell_type": "code",
      "source": [
        "from sklearn.cluster import AgglomerativeClustering\n",
        "for n_clusters in range(2,8):\n",
        "  aglo=AgglomerativeClustering(n_clusters=n_clusters,linkage='ward')\n",
        "  aglo.fit(data)\n",
        "  clusters=aglo.fit_predict(data)\n",
        "  silhouette_avg=silhouette_score(data,clusters)\n",
        "  print('For n_clusters=',n_clusters,'The average silhouette_score is:',silhouette_avg)"
      ],
      "metadata": {
        "colab": {
          "base_uri": "https://localhost:8080/"
        },
        "id": "3q8NwCPMNrY-",
        "outputId": "a5329dfa-be21-4bf2-8754-b0df3bcd7163"
      },
      "execution_count": 61,
      "outputs": [
        {
          "output_type": "stream",
          "name": "stdout",
          "text": [
            "For n_clusters= 2 The average silhouette_score is: 0.29916602844367\n",
            "For n_clusters= 3 The average silhouette_score is: 0.3812859576468096\n",
            "For n_clusters= 4 The average silhouette_score is: 0.4102091359195185\n",
            "For n_clusters= 5 The average silhouette_score is: 0.43997527212476695\n",
            "For n_clusters= 6 The average silhouette_score is: 0.4428008535928764\n",
            "For n_clusters= 7 The average silhouette_score is: 0.42593881050851595\n"
          ]
        }
      ]
    },
    {
      "cell_type": "markdown",
      "source": [
        "Running the Silhouette score for agglomerative clustering with 'complete' linkage through numerical loops for checking best number of clusters to be used for clustering in aglomerative"
      ],
      "metadata": {
        "id": "TOy-j9R6jsuD"
      }
    },
    {
      "cell_type": "code",
      "source": [
        "from sklearn.cluster import AgglomerativeClustering\n",
        "for n_clusters in range(2,8):\n",
        "  aglo=AgglomerativeClustering(n_clusters=n_clusters,linkage='complete')\n",
        "  aglo.fit(data)\n",
        "  clusters=aglo.fit_predict(data)\n",
        "  silhouette_avg=silhouette_score(data,clusters)\n",
        "  print('For n_clusters=',n_clusters,'The average silhouette_score is:',silhouette_avg)"
      ],
      "metadata": {
        "colab": {
          "base_uri": "https://localhost:8080/"
        },
        "id": "WuE4Lp_7Nrb5",
        "outputId": "f19504e0-9c8e-4558-f359-c703077b0119"
      },
      "execution_count": 62,
      "outputs": [
        {
          "output_type": "stream",
          "name": "stdout",
          "text": [
            "For n_clusters= 2 The average silhouette_score is: 0.29916602844367\n",
            "For n_clusters= 3 The average silhouette_score is: 0.3812859576468096\n",
            "For n_clusters= 4 The average silhouette_score is: 0.4102091359195185\n",
            "For n_clusters= 5 The average silhouette_score is: 0.43997527212476695\n",
            "For n_clusters= 6 The average silhouette_score is: 0.42326551539571566\n",
            "For n_clusters= 7 The average silhouette_score is: 0.4141207457542422\n"
          ]
        }
      ]
    },
    {
      "cell_type": "markdown",
      "source": [
        "**Comparing the output of kmeans, Agglomerative and Birch algorithms using 3 matrics**"
      ],
      "metadata": {
        "id": "ocW0LNdok8YN"
      }
    },
    {
      "cell_type": "markdown",
      "source": [
        "\n",
        "\n",
        "1.   Silhouette Score\n",
        "2.   Calinsk Harabaz Score\n",
        "3.   Davies Bouldin Score\n",
        "\n",
        "Calinsk Harabaz Score:\n",
        "\n",
        "  Calinsk Harabaz index The Calinsk Harabaz index also known as the Variance Ratio Criterion, Is the ratio of sum of between-cluster dispersion and of inter-cluster dispression for all clusters, the higher the score, the better the performances. The score is higher when clusters are dense and well separated. which relates to a standard concept of cluster.The score is fast to compute.\n",
        "\n",
        "\n",
        "Davies Bouldin Score:\n",
        "\n",
        "  Davies Bouldin index This index signifies the average 'similarity' between clusters, where the measure that compares the distanc between cluster with size of the clusters with size of the clusters themseleves. A lower Davies Bouldin index relates to a model with better seperation between the clusters. The computation of Davies Bouldin is simpler then of Silhouette Score \n",
        "\n",
        "\n"
      ],
      "metadata": {
        "id": "nVArUwrilQnd"
      }
    },
    {
      "cell_type": "code",
      "source": [
        "output=pd.DataFrame(index=['K-means','Agglomerative','Birch'],\n",
        "                    columns=['SC','CH','DB'])"
      ],
      "metadata": {
        "id": "RUNufiMZNreR"
      },
      "execution_count": null,
      "outputs": []
    },
    {
      "cell_type": "code",
      "source": [
        "#Importing the necessary libraries for the Clustering algorithm\n",
        "import numpy as np\n",
        "import pandas as pd\n",
        "import os\n",
        "import seaborn as sns\n",
        "import matplotlib.pyplot as plt\n",
        "from tqdm import tqdm_notebook\n",
        "from sklearn import datasets\n",
        "from sklearn.cluster import KMeans,DBSCAN, Birch\n",
        "from sklearn import metrics\n",
        "from sklearn.cluster import AgglomerativeClustering"
      ],
      "metadata": {
        "id": "96iK1ypIpEr9"
      },
      "execution_count": 68,
      "outputs": []
    },
    {
      "cell_type": "markdown",
      "source": [
        "Scalng the data before performing hypothesis on 10 clusters for each algorithm"
      ],
      "metadata": {
        "id": "jeu1ADMmqCbF"
      }
    },
    {
      "cell_type": "code",
      "source": [
        "from sklearn.preprocessing import StandardScaler, normalize\n",
        "#Standardize data\n",
        "scaler=StandardScaler()\n",
        "scaled_df=scaler.fit_transform(data)"
      ],
      "metadata": {
        "id": "84hkoag4pEuT"
      },
      "execution_count": 64,
      "outputs": []
    },
    {
      "cell_type": "markdown",
      "source": [
        "Elbo graph for scaled data. Here we see that elbow curve is not a smooth curve and has multiple elbow points. so 3,4 connot be consider as ideal clusters as they will be else unevenly distributed and biased towards 1 cluster due to irregular elbo graph"
      ],
      "metadata": {
        "id": "eLb_IUPiqmLW"
      }
    },
    {
      "cell_type": "code",
      "source": [
        "from sklearn.cluster import KMeans\n",
        "wcss=[]\n",
        "for i in range(1,15):\n",
        "  km=KMeans(n_clusters=i,init='k-means++',max_iter=300,n_init=10,random_state=0)\n",
        "  km.fit(data)\n",
        "  wcss.append(km.inertia_)\n",
        "\n",
        "plt.plot(range(1,15),wcss)\n",
        "plt.title('The Elbow Method',fontsize=10)\n",
        "plt.xlabel('no.of Clusters')\n",
        "plt.ylabel('wcss')\n",
        "plt.show()"
      ],
      "metadata": {
        "colab": {
          "base_uri": "https://localhost:8080/",
          "height": 293
        },
        "id": "RqKQz4bLpEwg",
        "outputId": "362cc980-e9a1-4197-f7fe-355862878eaf"
      },
      "execution_count": 72,
      "outputs": [
        {
          "output_type": "display_data",
          "data": {
            "image/png": "[encoded data removed]",
            "text/plain": [
              "<Figure size 432x288 with 1 Axes>"
            ]
          },
          "metadata": {
            "needs_background": "light"
          }
        }
      ]
    },
    {
      "cell_type": "markdown",
      "source": [
        "Running k-means clusterong for 10 clusters and the results in Output dataframe. Random selection to identify which algorithm worked best on 10 clusters"
      ],
      "metadata": {
        "id": "_inaNY-YrsaQ"
      }
    },
    {
      "cell_type": "code",
      "source": [
        "from sklearn.cluster import KMeans\n",
        "#Fitting K-means to data\n",
        "clust_model=KMeans(n_clusters=10,random_state=17)\n",
        "clust_model.fit(scaled_df)\n",
        "#Evaluating model's performance\n",
        "output={}\n",
        "labels=clust_model.labels_\n",
        "output['K-means','SC']=metrics.silhouette_score(scaled_df,labels,metric='euclidean')\n",
        "output['K-means','CH']=metrics.calinski_harabasz_score(scaled_df,labels)\n",
        "output['K-means','DB']=metrics.davies_bouldin_score(scaled_df,labels)\n",
        "print(output)\n"
      ],
      "metadata": {
        "colab": {
          "base_uri": "https://localhost:8080/"
        },
        "id": "AJr6BjxCpEy3",
        "outputId": "2dc2393c-0e72-4ffa-9703-8c6bfbf31c4b"
      },
      "execution_count": 100,
      "outputs": [
        {
          "output_type": "stream",
          "name": "stdout",
          "text": [
            "{('K-means', 'SC'): 0.42076374869477745, ('K-means', 'CH'): 89.97819558254272, ('K-means', 'DB'): 0.8331029646644401}\n"
          ]
        }
      ]
    },
    {
      "cell_type": "code",
      "source": [
        "\n",
        "#Fitting Agglomerative to data\n",
        "clust_model=AgglomerativeClustering(n_clusters=10,linkage='average')\n",
        "clust_model.fit(scaled_df)\n",
        "#Evaluating model's performance\n",
        "output1={}\n",
        "labels=clust_model.labels_\n",
        "output1['Agglomerative','SC']=metrics.silhouette_score(scaled_df,labels,metric='euclidean')\n",
        "output1['Agglomerative','CH']=metrics.calinski_harabasz_score(scaled_df,labels)\n",
        "output1['Agglomerative','DB']=metrics.davies_bouldin_score(scaled_df,labels)\n",
        "print(output1)"
      ],
      "metadata": {
        "colab": {
          "base_uri": "https://localhost:8080/"
        },
        "id": "1e5Md1kGpE05",
        "outputId": "b9f27b8d-25f4-465b-e04c-975681bb399d"
      },
      "execution_count": 99,
      "outputs": [
        {
          "output_type": "stream",
          "name": "stdout",
          "text": [
            "{('Agglomerative', 'SC'): 0.3743144491168564, ('Agglomerative', 'CH'): 68.64792224215655, ('Agglomerative', 'DB'): 0.900034653815014}\n"
          ]
        }
      ]
    },
    {
      "cell_type": "code",
      "source": [
        "clust_model=Birch(n_clusters=10)\n",
        "clust_model.fit(scaled_df)\n",
        "#Evaluating model's performance\n",
        "output2={}\n",
        "labels=clust_model.labels_\n",
        "output2['Birch','SC']=metrics.silhouette_score(scaled_df,labels,metric='euclidean')\n",
        "output2['Birch','CH']=metrics.calinski_harabasz_score(scaled_df,labels)\n",
        "output2['Birch','DB']=metrics.davies_bouldin_score(scaled_df,labels)\n",
        "print(output2)"
      ],
      "metadata": {
        "colab": {
          "base_uri": "https://localhost:8080/"
        },
        "id": "JQ03FKyhpE3K",
        "outputId": "1106e506-37ea-4501-b4fc-d90127985ce5"
      },
      "execution_count": 101,
      "outputs": [
        {
          "output_type": "stream",
          "name": "stdout",
          "text": [
            "{('Birch', 'SC'): 0.4137529731797555, ('Birch', 'CH'): 86.40147852426651, ('Birch', 'DB'): 0.8292315011168008}\n"
          ]
        }
      ]
    },
    {
      "cell_type": "markdown",
      "source": [
        "Comparing the results of each clustering algorithm using the 3 metrics which are silhouette score calinski-harabaz-score and davies-bouldin score"
      ],
      "metadata": {
        "id": "4jbMz_-zwOds"
      }
    },
    {
      "cell_type": "code",
      "source": [
        "'''output=pd.DataFrame(index=['K-means','Agglomerative','Birch'],\n",
        "                    columns=['SC','CH','DB'])'''\n",
        "compar=pd.DataFrame.from_dict(output)"
      ],
      "metadata": {
        "id": "uF4uqSJdpE8G"
      },
      "execution_count": 97,
      "outputs": []
    },
    {
      "cell_type": "code",
      "source": [
        "output_kmeans = pd.DataFrame()\n",
        "output_kmeans = output_kmeans.append(output,ignore_index=True )\n",
        "output_agglo = pd.DataFrame()\n",
        "output_agglo = output_agglo.append(output1,ignore_index=True )\n",
        "output_agglo = pd.DataFrame()\n",
        "output_birch = output_birch.append(output2,ignore_index=True )\n"
      ],
      "metadata": {
        "id": "VkwwzVMRpE-U"
      },
      "execution_count": 110,
      "outputs": []
    },
    {
      "cell_type": "code",
      "source": [
        "print(output_kmeans,\"\\n\")\n",
        "print(output_agglo,\"\\n\")\n",
        "print(output_birch,\"\\n\")"
      ],
      "metadata": {
        "colab": {
          "base_uri": "https://localhost:8080/"
        },
        "id": "MOdYBGhgx3Lc",
        "outputId": "81c6f64b-1eab-4d78-f3a1-a9be59b40e3c"
      },
      "execution_count": 116,
      "outputs": [
        {
          "output_type": "stream",
          "name": "stdout",
          "text": [
            "   (K-means, SC)  (K-means, CH)  (K-means, DB)\n",
            "0       0.420764      89.978196       0.833103 \n",
            "\n",
            "   (Agglomerative, SC)  (Agglomerative, CH)  (Agglomerative, DB)\n",
            "0             0.374314            68.647922             0.900035 \n",
            "\n",
            "   (Birch, SC)  (Birch, CH)  (Birch, DB)\n",
            "0     0.413753    86.401479     0.829232 \n",
            "\n"
          ]
        }
      ]
    },
    {
      "cell_type": "markdown",
      "source": [
        "Distribution of k-means with 10 clusters"
      ],
      "metadata": {
        "id": "_qwWiKZt1JKU"
      }
    },
    {
      "cell_type": "code",
      "source": [
        "km=KMeans(n_clusters=10,init='k-means++',max_iter=300,n_init=30, random_state=0)\n",
        "y_means=km.fit_predict(scaled_df)"
      ],
      "metadata": {
        "id": "9-0q_CSa1HKI"
      },
      "execution_count": 117,
      "outputs": []
    },
    {
      "cell_type": "code",
      "source": [
        "cluster_df=pd.DataFrame(data=y_means,columns=['cluster'])\n",
        "\n",
        "cluster_df.groupby('cluster').size()"
      ],
      "metadata": {
        "colab": {
          "base_uri": "https://localhost:8080/"
        },
        "id": "W-7woAs-0-Wi",
        "outputId": "acfe858c-5999-427a-8702-d8a6da474239"
      },
      "execution_count": 118,
      "outputs": [
        {
          "output_type": "execute_result",
          "data": {
            "text/plain": [
              "cluster\n",
              "0    14\n",
              "1    13\n",
              "2    18\n",
              "3    24\n",
              "4    21\n",
              "5    19\n",
              "6    26\n",
              "7    14\n",
              "8    26\n",
              "9    25\n",
              "dtype: int64"
            ]
          },
          "metadata": {},
          "execution_count": 118
        }
      ]
    },
    {
      "cell_type": "markdown",
      "source": [
        "Sum of squared error, SSE for K-means"
      ],
      "metadata": {
        "id": "EyTJCMm_2IO1"
      }
    },
    {
      "cell_type": "code",
      "source": [
        "km.inertia_"
      ],
      "metadata": {
        "colab": {
          "base_uri": "https://localhost:8080/"
        },
        "id": "GdPhh94o2Gv4",
        "outputId": "8107a3bd-7065-4408-ef43-f0f82c18b701"
      },
      "execution_count": 119,
      "outputs": [
        {
          "output_type": "execute_result",
          "data": {
            "text/plain": [
              "152.02983429775685"
            ]
          },
          "metadata": {},
          "execution_count": 119
        }
      ]
    },
    {
      "cell_type": "markdown",
      "source": [
        "Distribution of Agglomerative with 10 clusters"
      ],
      "metadata": {
        "id": "wZX2SYML2bDx"
      }
    },
    {
      "cell_type": "code",
      "source": [
        "aglo_cluster=AgglomerativeClustering(n_clusters=10,linkage='average')\n",
        "aglo_cluster.fit(scaled_df)\n",
        "clusters=aglo_cluster.fit_predict(scaled_df)"
      ],
      "metadata": {
        "id": "wbkj37192FJ4"
      },
      "execution_count": 121,
      "outputs": []
    },
    {
      "cell_type": "code",
      "source": [
        "cluster_df=pd.DataFrame(data=clusters,columns=['cluster'])\n",
        "\n",
        "cluster_df.groupby('cluster').size()"
      ],
      "metadata": {
        "colab": {
          "base_uri": "https://localhost:8080/"
        },
        "id": "KTSmE0MJ3Hh1",
        "outputId": "29f135cc-201d-454d-c70d-46ee6fb3fcab"
      },
      "execution_count": 122,
      "outputs": [
        {
          "output_type": "execute_result",
          "data": {
            "text/plain": [
              "cluster\n",
              "0    18\n",
              "1    44\n",
              "2    23\n",
              "3    32\n",
              "4    22\n",
              "5    18\n",
              "6    15\n",
              "7    21\n",
              "8     5\n",
              "9     2\n",
              "dtype: int64"
            ]
          },
          "metadata": {},
          "execution_count": 122
        }
      ]
    },
    {
      "cell_type": "markdown",
      "source": [
        "Distribution of birch with 10 clusters"
      ],
      "metadata": {
        "id": "3Urlc6983brA"
      }
    },
    {
      "cell_type": "code",
      "source": [
        "Birch_cluster=Birch(n_clusters=10)\n",
        "Birch_cluster.fit(scaled_df)\n",
        "clusters_birch=aglo_cluster.fit_predict(scaled_df)"
      ],
      "metadata": {
        "id": "9lt9A5jj3fH-"
      },
      "execution_count": 124,
      "outputs": []
    },
    {
      "cell_type": "code",
      "source": [
        "cluster_df=pd.DataFrame(data=clusters_birch,columns=['cluster'])\n",
        "\n",
        "cluster_df.groupby('cluster').size()"
      ],
      "metadata": {
        "colab": {
          "base_uri": "https://localhost:8080/"
        },
        "id": "Mf0WZtch32vj",
        "outputId": "91821e09-98d2-4ebe-d7fd-a81c2b81fbbd"
      },
      "execution_count": 125,
      "outputs": [
        {
          "output_type": "execute_result",
          "data": {
            "text/plain": [
              "cluster\n",
              "0    18\n",
              "1    25\n",
              "2    27\n",
              "3    18\n",
              "4    12\n",
              "5    15\n",
              "6    13\n",
              "7    30\n",
              "8    21\n",
              "9    21\n",
              "dtype: int64"
            ]
          },
          "metadata": {},
          "execution_count": 125
        }
      ]
    },
    {
      "cell_type": "markdown",
      "source": [
        "K-Means is the best clustering Algorithm for Mall_customers dataset"
      ],
      "metadata": {
        "id": "mWx46up84uXh"
      }
    }
  ]
}